{
 "cells": [
  {
   "cell_type": "markdown",
   "id": "1ea5d72b",
   "metadata": {
    "papermill": {
     "duration": 0.003823,
     "end_time": "2024-03-13T09:07:15.896308",
     "exception": false,
     "start_time": "2024-03-13T09:07:15.892485",
     "status": "completed"
    },
    "tags": []
   },
   "source": [
    "# TODO:\n",
    "\n",
    "- [ ] Automatizar generación de grupos\n",
    "- [ ] Analizar datos\n",
    "\t- [ ] Entrenadores?\n",
    "\t- [ ] Desplazamientos?\n",
    "\t- [ ] Bajas jugadores?\n",
    "\t- [ ] "
   ]
  },
  {
   "cell_type": "markdown",
   "id": "07e26b8a",
   "metadata": {
    "papermill": {
     "duration": 0.001992,
     "end_time": "2024-03-13T09:07:15.906119",
     "exception": false,
     "start_time": "2024-03-13T09:07:15.904127",
     "status": "completed"
    },
    "tags": []
   },
   "source": [
    "Probando ediciones "
   ]
  },
  {
   "cell_type": "code",
   "execution_count": 1,
   "id": "620f38b2",
   "metadata": {
    "_cell_guid": "b1076dfc-b9ad-4769-8c92-a6c4dae69d19",
    "_uuid": "8f2839f25d086af736a60e9eeb907d3b93b6e0e5",
    "execution": {
     "iopub.execute_input": "2024-03-13T09:07:15.912765Z",
     "iopub.status.busy": "2024-03-13T09:07:15.911963Z",
     "iopub.status.idle": "2024-03-13T09:07:16.827733Z",
     "shell.execute_reply": "2024-03-13T09:07:16.826436Z"
    },
    "papermill": {
     "duration": 0.922167,
     "end_time": "2024-03-13T09:07:16.830423",
     "exception": false,
     "start_time": "2024-03-13T09:07:15.908256",
     "status": "completed"
    },
    "tags": []
   },
   "outputs": [],
   "source": [
    "# This Python 3 environment comes with many helpful analytics libraries installed\n",
    "# It is defined by the kaggle/python Docker image: https://github.com/kaggle/docker-python\n",
    "# For example, here's several helpful packages to load\n",
    "\n",
    "import numpy as np # linear algebra\n",
    "import pandas as pd # data processing, CSV file I/O (e.g. pd.read_csv)\n",
    "\n",
    "# Input data files are available in the read-only \"../input/\" directory\n",
    "# For example, running this (by clicking run or pressing Shift+Enter) will list all files under the input directory\n",
    "\n",
    "import os\n",
    "for dirname, _, filenames in os.walk('/kaggle/input'):\n",
    "    for filename in filenames:\n",
    "        print(os.path.join(dirname, filename))\n",
    "\n",
    "# You can write up to 20GB to the current directory (/kaggle/working/) that gets preserved as output when you create a version using \"Save & Run All\" \n",
    "# You can also write temporary files to /kaggle/temp/, but they won't be saved outside of the current session"
   ]
  },
  {
   "cell_type": "code",
   "execution_count": 6,
   "id": "1867f8e3",
   "metadata": {},
   "outputs": [
    {
     "data": {
      "text/plain": [
       "['MSecondaryTourneyTeams.csv',\n",
       " 'MTeams.csv',\n",
       " 'MTeamConferences.csv',\n",
       " 'WTeamConferences.csv',\n",
       " 'MNCAATourneyDetailedResults.csv',\n",
       " 'WGameCities.csv',\n",
       " 'MTeamCoaches.csv',\n",
       " 'MNCAATourneyCompactResults.csv',\n",
       " 'Conferences.csv',\n",
       " 'WRegularSeasonCompactResults.csv',\n",
       " 'MNCAATourneySeedRoundSlots.csv',\n",
       " 'WTeams.csv',\n",
       " 'MSecondaryTourneyCompactResults.csv',\n",
       " 'MRegularSeasonCompactResults.csv',\n",
       " 'sample_submission.csv',\n",
       " 'MNCAATourneySeeds.csv',\n",
       " 'WTeamSpellings.csv',\n",
       " 'WSeasons.csv',\n",
       " 'WRegularSeasonDetailedResults.csv',\n",
       " 'MTeamSpellings.csv',\n",
       " 'WNCAATourneyDetailedResults.csv',\n",
       " 'WNCAATourneyCompactResults.csv',\n",
       " 'MSeasons.csv',\n",
       " 'MMasseyOrdinals.csv',\n",
       " 'MRegularSeasonDetailedResults.csv',\n",
       " 'MGameCities.csv',\n",
       " 'MNCAATourneySlots.csv',\n",
       " '2024_tourney_seeds.csv',\n",
       " 'Cities.csv',\n",
       " 'WNCAATourneySeeds.csv',\n",
       " 'MConferenceTourneyGames.csv',\n",
       " 'WNCAATourneySlots.csv']"
      ]
     },
     "execution_count": 6,
     "metadata": {},
     "output_type": "execute_result"
    }
   ],
   "source": [
    "os.listdir(\"/kaggle/input/march-machine-learning-mania-2024/\")"
   ]
  },
  {
   "cell_type": "code",
   "execution_count": 7,
   "id": "f89a8301",
   "metadata": {},
   "outputs": [],
   "source": [
    "mteams = pd.read_csv(\"/kaggle/input/march-machine-learning-mania-2024/MSeasons.csv\")\n",
    "mtourney = pd.read_csv(\"/kaggle/input/march-machine-learning-mania-2024/MNCAATourneySeeds.csv\")\n",
    "mtourneycompact = pd.read_csv(\"/kaggle/input/march-machine-learning-mania-2024/MNCAATourneyCompactResults.csv\")\n",
    "mregularcompact = pd.read_csv(\"/kaggle/input/march-machine-learning-mania-2024/MRegularSeasonCompactResults.csv\")"
   ]
  },
  {
   "cell_type": "code",
   "execution_count": 8,
   "id": "cf5d72f9",
   "metadata": {},
   "outputs": [
    {
     "data": {
      "text/html": [
       "<div>\n",
       "<style scoped>\n",
       "    .dataframe tbody tr th:only-of-type {\n",
       "        vertical-align: middle;\n",
       "    }\n",
       "\n",
       "    .dataframe tbody tr th {\n",
       "        vertical-align: top;\n",
       "    }\n",
       "\n",
       "    .dataframe thead th {\n",
       "        text-align: right;\n",
       "    }\n",
       "</style>\n",
       "<table border=\"1\" class=\"dataframe\">\n",
       "  <thead>\n",
       "    <tr style=\"text-align: right;\">\n",
       "      <th></th>\n",
       "      <th>Season</th>\n",
       "      <th>Seed</th>\n",
       "      <th>TeamID</th>\n",
       "    </tr>\n",
       "  </thead>\n",
       "  <tbody>\n",
       "    <tr>\n",
       "      <th>0</th>\n",
       "      <td>1985</td>\n",
       "      <td>W01</td>\n",
       "      <td>1207</td>\n",
       "    </tr>\n",
       "    <tr>\n",
       "      <th>1</th>\n",
       "      <td>1985</td>\n",
       "      <td>W02</td>\n",
       "      <td>1210</td>\n",
       "    </tr>\n",
       "    <tr>\n",
       "      <th>2</th>\n",
       "      <td>1985</td>\n",
       "      <td>W03</td>\n",
       "      <td>1228</td>\n",
       "    </tr>\n",
       "    <tr>\n",
       "      <th>3</th>\n",
       "      <td>1985</td>\n",
       "      <td>W04</td>\n",
       "      <td>1260</td>\n",
       "    </tr>\n",
       "    <tr>\n",
       "      <th>4</th>\n",
       "      <td>1985</td>\n",
       "      <td>W05</td>\n",
       "      <td>1374</td>\n",
       "    </tr>\n",
       "    <tr>\n",
       "      <th>...</th>\n",
       "      <td>...</td>\n",
       "      <td>...</td>\n",
       "      <td>...</td>\n",
       "    </tr>\n",
       "    <tr>\n",
       "      <th>2485</th>\n",
       "      <td>2023</td>\n",
       "      <td>Z12</td>\n",
       "      <td>1433</td>\n",
       "    </tr>\n",
       "    <tr>\n",
       "      <th>2486</th>\n",
       "      <td>2023</td>\n",
       "      <td>Z13</td>\n",
       "      <td>1233</td>\n",
       "    </tr>\n",
       "    <tr>\n",
       "      <th>2487</th>\n",
       "      <td>2023</td>\n",
       "      <td>Z14</td>\n",
       "      <td>1213</td>\n",
       "    </tr>\n",
       "    <tr>\n",
       "      <th>2488</th>\n",
       "      <td>2023</td>\n",
       "      <td>Z15</td>\n",
       "      <td>1421</td>\n",
       "    </tr>\n",
       "    <tr>\n",
       "      <th>2489</th>\n",
       "      <td>2023</td>\n",
       "      <td>Z16</td>\n",
       "      <td>1224</td>\n",
       "    </tr>\n",
       "  </tbody>\n",
       "</table>\n",
       "<p>2490 rows × 3 columns</p>\n",
       "</div>"
      ],
      "text/plain": [
       "      Season Seed  TeamID\n",
       "0       1985  W01    1207\n",
       "1       1985  W02    1210\n",
       "2       1985  W03    1228\n",
       "3       1985  W04    1260\n",
       "4       1985  W05    1374\n",
       "...      ...  ...     ...\n",
       "2485    2023  Z12    1433\n",
       "2486    2023  Z13    1233\n",
       "2487    2023  Z14    1213\n",
       "2488    2023  Z15    1421\n",
       "2489    2023  Z16    1224\n",
       "\n",
       "[2490 rows x 3 columns]"
      ]
     },
     "execution_count": 8,
     "metadata": {},
     "output_type": "execute_result"
    }
   ],
   "source": [
    "mtourney"
   ]
  },
  {
   "cell_type": "code",
   "execution_count": null,
   "id": "381a9cb6",
   "metadata": {},
   "outputs": [],
   "source": []
  }
 ],
 "metadata": {
  "kaggle": {
   "accelerator": "none",
   "dataSources": [],
   "dockerImageVersionId": 30664,
   "isGpuEnabled": false,
   "isInternetEnabled": true,
   "language": "python",
   "sourceType": "notebook"
  },
  "kernelspec": {
   "display_name": "Python 3",
   "language": "python",
   "name": "python3"
  },
  "language_info": {
   "codemirror_mode": {
    "name": "ipython",
    "version": 3
   },
   "file_extension": ".py",
   "mimetype": "text/x-python",
   "name": "python",
   "nbconvert_exporter": "python",
   "pygments_lexer": "ipython3",
   "version": "3.10.12"
  },
  "papermill": {
   "default_parameters": {},
   "duration": 4.531389,
   "end_time": "2024-03-13T09:07:17.355002",
   "environment_variables": {},
   "exception": null,
   "input_path": "__notebook__.ipynb",
   "output_path": "__notebook__.ipynb",
   "parameters": {},
   "start_time": "2024-03-13T09:07:12.823613",
   "version": "2.5.0"
  }
 },
 "nbformat": 4,
 "nbformat_minor": 5
}
